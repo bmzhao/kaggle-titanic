{
 "cells": [
  {
   "cell_type": "markdown",
   "metadata": {},
   "source": [
    "# Titanic Survival Prediction"
   ]
  },
  {
   "cell_type": "code",
   "execution_count": 40,
   "metadata": {},
   "outputs": [
    {
     "data": {
      "text/html": [
       "<div>\n",
       "<style>\n",
       "    .dataframe thead tr:only-child th {\n",
       "        text-align: right;\n",
       "    }\n",
       "\n",
       "    .dataframe thead th {\n",
       "        text-align: left;\n",
       "    }\n",
       "\n",
       "    .dataframe tbody tr th {\n",
       "        vertical-align: top;\n",
       "    }\n",
       "</style>\n",
       "<table border=\"1\" class=\"dataframe\">\n",
       "  <thead>\n",
       "    <tr style=\"text-align: right;\">\n",
       "      <th></th>\n",
       "      <th>PassengerId</th>\n",
       "      <th>Survived</th>\n",
       "      <th>Pclass</th>\n",
       "      <th>Name</th>\n",
       "      <th>Sex</th>\n",
       "      <th>Age</th>\n",
       "      <th>SibSp</th>\n",
       "      <th>Parch</th>\n",
       "      <th>Ticket</th>\n",
       "      <th>Fare</th>\n",
       "      <th>Cabin</th>\n",
       "      <th>Embarked</th>\n",
       "    </tr>\n",
       "  </thead>\n",
       "  <tbody>\n",
       "    <tr>\n",
       "      <th>0</th>\n",
       "      <td>1</td>\n",
       "      <td>0</td>\n",
       "      <td>3</td>\n",
       "      <td>Braund, Mr. Owen Harris</td>\n",
       "      <td>male</td>\n",
       "      <td>22.0</td>\n",
       "      <td>1</td>\n",
       "      <td>0</td>\n",
       "      <td>A/5 21171</td>\n",
       "      <td>7.2500</td>\n",
       "      <td>NaN</td>\n",
       "      <td>S</td>\n",
       "    </tr>\n",
       "    <tr>\n",
       "      <th>1</th>\n",
       "      <td>2</td>\n",
       "      <td>1</td>\n",
       "      <td>1</td>\n",
       "      <td>Cumings, Mrs. John Bradley (Florence Briggs Th...</td>\n",
       "      <td>female</td>\n",
       "      <td>38.0</td>\n",
       "      <td>1</td>\n",
       "      <td>0</td>\n",
       "      <td>PC 17599</td>\n",
       "      <td>71.2833</td>\n",
       "      <td>C85</td>\n",
       "      <td>C</td>\n",
       "    </tr>\n",
       "    <tr>\n",
       "      <th>2</th>\n",
       "      <td>3</td>\n",
       "      <td>1</td>\n",
       "      <td>3</td>\n",
       "      <td>Heikkinen, Miss. Laina</td>\n",
       "      <td>female</td>\n",
       "      <td>26.0</td>\n",
       "      <td>0</td>\n",
       "      <td>0</td>\n",
       "      <td>STON/O2. 3101282</td>\n",
       "      <td>7.9250</td>\n",
       "      <td>NaN</td>\n",
       "      <td>S</td>\n",
       "    </tr>\n",
       "    <tr>\n",
       "      <th>3</th>\n",
       "      <td>4</td>\n",
       "      <td>1</td>\n",
       "      <td>1</td>\n",
       "      <td>Futrelle, Mrs. Jacques Heath (Lily May Peel)</td>\n",
       "      <td>female</td>\n",
       "      <td>35.0</td>\n",
       "      <td>1</td>\n",
       "      <td>0</td>\n",
       "      <td>113803</td>\n",
       "      <td>53.1000</td>\n",
       "      <td>C123</td>\n",
       "      <td>S</td>\n",
       "    </tr>\n",
       "    <tr>\n",
       "      <th>4</th>\n",
       "      <td>5</td>\n",
       "      <td>0</td>\n",
       "      <td>3</td>\n",
       "      <td>Allen, Mr. William Henry</td>\n",
       "      <td>male</td>\n",
       "      <td>35.0</td>\n",
       "      <td>0</td>\n",
       "      <td>0</td>\n",
       "      <td>373450</td>\n",
       "      <td>8.0500</td>\n",
       "      <td>NaN</td>\n",
       "      <td>S</td>\n",
       "    </tr>\n",
       "  </tbody>\n",
       "</table>\n",
       "</div>"
      ],
      "text/plain": [
       "   PassengerId  Survived  Pclass  \\\n",
       "0            1         0       3   \n",
       "1            2         1       1   \n",
       "2            3         1       3   \n",
       "3            4         1       1   \n",
       "4            5         0       3   \n",
       "\n",
       "                                                Name     Sex   Age  SibSp  \\\n",
       "0                            Braund, Mr. Owen Harris    male  22.0      1   \n",
       "1  Cumings, Mrs. John Bradley (Florence Briggs Th...  female  38.0      1   \n",
       "2                             Heikkinen, Miss. Laina  female  26.0      0   \n",
       "3       Futrelle, Mrs. Jacques Heath (Lily May Peel)  female  35.0      1   \n",
       "4                           Allen, Mr. William Henry    male  35.0      0   \n",
       "\n",
       "   Parch            Ticket     Fare Cabin Embarked  \n",
       "0      0         A/5 21171   7.2500   NaN        S  \n",
       "1      0          PC 17599  71.2833   C85        C  \n",
       "2      0  STON/O2. 3101282   7.9250   NaN        S  \n",
       "3      0            113803  53.1000  C123        S  \n",
       "4      0            373450   8.0500   NaN        S  "
      ]
     },
     "execution_count": 40,
     "metadata": {},
     "output_type": "execute_result"
    }
   ],
   "source": [
    "import pandas as pd\n",
    "import numpy as np\n",
    "import matplotlib.pyplot as plt\n",
    "from sklearn.linear_model import LogisticRegression\n",
    "from sklearn.model_selection import train_test_split\n",
    "\n",
    "import keras\n",
    "from keras.models import Sequential\n",
    "from keras.layers import Dense, Dropout\n",
    "from keras import backend as K\n",
    "from keras.callbacks import ModelCheckpoint, EarlyStopping\n",
    "\n",
    "\n",
    "df = pd.read_csv('resources/train.csv')\n",
    "df.head()"
   ]
  },
  {
   "cell_type": "code",
   "execution_count": 41,
   "metadata": {},
   "outputs": [
    {
     "name": "stdout",
     "output_type": "stream",
     "text": [
      "<class 'pandas.core.frame.DataFrame'>\n",
      "RangeIndex: 891 entries, 0 to 890\n",
      "Data columns (total 12 columns):\n",
      "PassengerId    891 non-null int64\n",
      "Survived       891 non-null int64\n",
      "Pclass         891 non-null int64\n",
      "Name           891 non-null object\n",
      "Sex            891 non-null object\n",
      "Age            714 non-null float64\n",
      "SibSp          891 non-null int64\n",
      "Parch          891 non-null int64\n",
      "Ticket         891 non-null object\n",
      "Fare           891 non-null float64\n",
      "Cabin          204 non-null object\n",
      "Embarked       889 non-null object\n",
      "dtypes: float64(2), int64(5), object(5)\n",
      "memory usage: 83.6+ KB\n"
     ]
    }
   ],
   "source": [
    "df.info()"
   ]
  },
  {
   "cell_type": "code",
   "execution_count": 56,
   "metadata": {},
   "outputs": [
    {
     "data": {
      "text/plain": [
       "Age      28.0\n",
       "SibSp     0.0\n",
       "dtype: float64"
      ]
     },
     "execution_count": 56,
     "metadata": {},
     "output_type": "execute_result"
    }
   ],
   "source": [
    "df[['Age', 'SibSp']].median()"
   ]
  },
  {
   "cell_type": "markdown",
   "metadata": {},
   "source": [
    "## Data Cleaning/Normalization\n",
    "\n",
    "Some attributes of the Titanic passengers don't have an obvious correlation to survivability (like PassengerId, Ticket, and Name) so we drop them. Also, we'll drop the Cabin column because most entries are null. In addition, we drop any remaining rows that have null columns, leaving us with 712 rows. Finally we one hot encode the categorical features of the user (such as their sex, pclass, and embark point), and normalize the remaining real-valued features."
   ]
  },
  {
   "cell_type": "code",
   "execution_count": 63,
   "metadata": {
    "scrolled": true
   },
   "outputs": [
    {
     "name": "stdout",
     "output_type": "stream",
     "text": [
      "<class 'pandas.core.frame.DataFrame'>\n",
      "Int64Index: 712 entries, 0 to 890\n",
      "Data columns (total 11 columns):\n",
      "1         712 non-null uint8\n",
      "2         712 non-null uint8\n",
      "3         712 non-null uint8\n",
      "female    712 non-null uint8\n",
      "male      712 non-null uint8\n",
      "C         712 non-null uint8\n",
      "Q         712 non-null uint8\n",
      "S         712 non-null uint8\n",
      "Age       712 non-null float64\n",
      "SibSp     712 non-null float64\n",
      "Fare      712 non-null float64\n",
      "dtypes: float64(3), uint8(8)\n",
      "memory usage: 27.8 KB\n"
     ]
    }
   ],
   "source": [
    "def preprocess(df, training_internal_state=None):\n",
    "    '''\n",
    "        preprocess a dataframe of titanic data, by extracting relevant features, \n",
    "        one-hot encoding categorical features, and normalizing numerical ones\n",
    "        Args:\n",
    "            train_internal_state: internal state of this function from the \n",
    "                   preprocessing of training data used to provide consistent \n",
    "                   preprocessing of test data (eg: medians and modes for filling nans)                \n",
    "                   if None, then preprocess will drop na values, otherwise,\n",
    "                   we will fill na values with the medians/modes of the given state\n",
    "        Returns:\n",
    "            tuple of (dataframe, series, state) of (features, labels, state) if \n",
    "            train_internal_state != None , otherwise dataframe of features\n",
    "    '''\n",
    "    df = df.drop(['PassengerId', 'Cabin', 'Ticket', 'Name'], axis=1)\n",
    "    \n",
    "    numerical_features = ['Age', 'SibSp', 'Fare']\n",
    "    categorical_features = ['Sex', 'Pclass', 'Embarked']\n",
    "    \n",
    "    new_internal_state = None\n",
    "    \n",
    "    if training_internal_state is None:\n",
    "        df = df.dropna()    \n",
    "        new_internal_state = {}\n",
    "        \n",
    "        for numerical in numerical_features:\n",
    "            new_internal_state[numerical] = df[numerical].median()\n",
    "        \n",
    "        for categorical in categorical_features:\n",
    "            new_internal_state[categorical] = df[categorical].mode()[0]\n",
    "    \n",
    "    else:\n",
    "        for numerical in numerical_features:\n",
    "            df[numerical].fillna(training_internal_state[numerical])\n",
    "        for categorical in categorical_features:\n",
    "            df[categorical].fillna(training_internal_state[categorical])\n",
    "            \n",
    "    sex_one_hot_encoded = pd.get_dummies(df['Sex'])\n",
    "    class_one_hot_encoded = pd.get_dummies(df['Pclass'])\n",
    "    embarked_one_hot_encoded = pd.get_dummies(df['Embarked'])\n",
    "    numerical_features = df[['Age', 'SibSp', 'Fare']].copy()\n",
    "    numerical_features_norm = (numerical_features - numerical_features.mean()) / (numerical_features.max() - numerical_features.min())\n",
    "    features = pd.concat([class_one_hot_encoded, sex_one_hot_encoded, embarked_one_hot_encoded, numerical_features_norm], axis=1)\n",
    "    \n",
    "    if training_internal_state is None:\n",
    "        return (features, df['Survived'].copy(), new_internal_state)\n",
    "    \n",
    "    return features\n",
    "    \n",
    "train_features, train_target, training_preprocessing_state = preprocess(df)\n",
    "train_features.info()"
   ]
  },
  {
   "cell_type": "code",
   "execution_count": 64,
   "metadata": {},
   "outputs": [
    {
     "data": {
      "text/html": [
       "<div>\n",
       "<style>\n",
       "    .dataframe thead tr:only-child th {\n",
       "        text-align: right;\n",
       "    }\n",
       "\n",
       "    .dataframe thead th {\n",
       "        text-align: left;\n",
       "    }\n",
       "\n",
       "    .dataframe tbody tr th {\n",
       "        vertical-align: top;\n",
       "    }\n",
       "</style>\n",
       "<table border=\"1\" class=\"dataframe\">\n",
       "  <thead>\n",
       "    <tr style=\"text-align: right;\">\n",
       "      <th></th>\n",
       "      <th>1</th>\n",
       "      <th>2</th>\n",
       "      <th>3</th>\n",
       "      <th>female</th>\n",
       "      <th>male</th>\n",
       "      <th>C</th>\n",
       "      <th>Q</th>\n",
       "      <th>S</th>\n",
       "      <th>Age</th>\n",
       "      <th>SibSp</th>\n",
       "      <th>Fare</th>\n",
       "    </tr>\n",
       "  </thead>\n",
       "  <tbody>\n",
       "    <tr>\n",
       "      <th>0</th>\n",
       "      <td>0</td>\n",
       "      <td>0</td>\n",
       "      <td>1</td>\n",
       "      <td>0</td>\n",
       "      <td>1</td>\n",
       "      <td>0</td>\n",
       "      <td>0</td>\n",
       "      <td>1</td>\n",
       "      <td>-0.096030</td>\n",
       "      <td>0.097191</td>\n",
       "      <td>-0.053320</td>\n",
       "    </tr>\n",
       "    <tr>\n",
       "      <th>1</th>\n",
       "      <td>1</td>\n",
       "      <td>0</td>\n",
       "      <td>0</td>\n",
       "      <td>1</td>\n",
       "      <td>0</td>\n",
       "      <td>1</td>\n",
       "      <td>0</td>\n",
       "      <td>0</td>\n",
       "      <td>0.105025</td>\n",
       "      <td>0.097191</td>\n",
       "      <td>0.071665</td>\n",
       "    </tr>\n",
       "    <tr>\n",
       "      <th>2</th>\n",
       "      <td>0</td>\n",
       "      <td>0</td>\n",
       "      <td>1</td>\n",
       "      <td>1</td>\n",
       "      <td>0</td>\n",
       "      <td>0</td>\n",
       "      <td>0</td>\n",
       "      <td>1</td>\n",
       "      <td>-0.045766</td>\n",
       "      <td>-0.102809</td>\n",
       "      <td>-0.052002</td>\n",
       "    </tr>\n",
       "    <tr>\n",
       "      <th>3</th>\n",
       "      <td>1</td>\n",
       "      <td>0</td>\n",
       "      <td>0</td>\n",
       "      <td>1</td>\n",
       "      <td>0</td>\n",
       "      <td>0</td>\n",
       "      <td>0</td>\n",
       "      <td>1</td>\n",
       "      <td>0.067327</td>\n",
       "      <td>0.097191</td>\n",
       "      <td>0.036174</td>\n",
       "    </tr>\n",
       "    <tr>\n",
       "      <th>4</th>\n",
       "      <td>0</td>\n",
       "      <td>0</td>\n",
       "      <td>1</td>\n",
       "      <td>0</td>\n",
       "      <td>1</td>\n",
       "      <td>0</td>\n",
       "      <td>0</td>\n",
       "      <td>1</td>\n",
       "      <td>0.067327</td>\n",
       "      <td>-0.102809</td>\n",
       "      <td>-0.051758</td>\n",
       "    </tr>\n",
       "  </tbody>\n",
       "</table>\n",
       "</div>"
      ],
      "text/plain": [
       "   1  2  3  female  male  C  Q  S       Age     SibSp      Fare\n",
       "0  0  0  1       0     1  0  0  1 -0.096030  0.097191 -0.053320\n",
       "1  1  0  0       1     0  1  0  0  0.105025  0.097191  0.071665\n",
       "2  0  0  1       1     0  0  0  1 -0.045766 -0.102809 -0.052002\n",
       "3  1  0  0       1     0  0  0  1  0.067327  0.097191  0.036174\n",
       "4  0  0  1       0     1  0  0  1  0.067327 -0.102809 -0.051758"
      ]
     },
     "execution_count": 64,
     "metadata": {},
     "output_type": "execute_result"
    }
   ],
   "source": [
    "train_features.head()"
   ]
  },
  {
   "cell_type": "code",
   "execution_count": 65,
   "metadata": {},
   "outputs": [
    {
     "data": {
      "text/plain": [
       "0    0\n",
       "1    1\n",
       "2    1\n",
       "3    1\n",
       "4    0\n",
       "Name: Survived, dtype: int64"
      ]
     },
     "execution_count": 65,
     "metadata": {},
     "output_type": "execute_result"
    }
   ],
   "source": [
    "train_target.head()"
   ]
  },
  {
   "cell_type": "code",
   "execution_count": 66,
   "metadata": {
    "collapsed": true
   },
   "outputs": [],
   "source": [
    "train_features, train_target = train_features.values, train_target.values"
   ]
  },
  {
   "cell_type": "code",
   "execution_count": 68,
   "metadata": {},
   "outputs": [],
   "source": [
    "x_train, x_validation, y_train, y_validation = train_test_split(train_features, train_target, test_size = 0.15)"
   ]
  },
  {
   "cell_type": "markdown",
   "metadata": {},
   "source": [
    "## Logistic Regression\n",
    "\n",
    "Since this is a binary classification problem, we can use a simple Logistic Regression model. After training, our accuracy on the validation set is 79%."
   ]
  },
  {
   "cell_type": "code",
   "execution_count": 69,
   "metadata": {},
   "outputs": [
    {
     "data": {
      "text/plain": [
       "0.83177570093457942"
      ]
     },
     "execution_count": 69,
     "metadata": {},
     "output_type": "execute_result"
    }
   ],
   "source": [
    "#Simple Logistic Regression prediction model\n",
    "lr_model = LogisticRegression()\n",
    "lr_model.fit(x_train, y_train)\n",
    "lr_model.score(x_validation, y_validation)"
   ]
  },
  {
   "cell_type": "markdown",
   "metadata": {},
   "source": [
    "## Neural Network\n",
    "\n",
    "We can also use a Neural Network as a classifier. After training, our accuracy on the training data is around 83%."
   ]
  },
  {
   "cell_type": "code",
   "execution_count": 70,
   "metadata": {},
   "outputs": [
    {
     "name": "stdout",
     "output_type": "stream",
     "text": [
      "Train on 605 samples, validate on 107 samples\n",
      "Epoch 1/20\n",
      "605/605 [==============================] - 0s - loss: 0.6037 - acc: 0.7537 - val_loss: 0.4901 - val_acc: 0.8037\n",
      "Epoch 2/20\n",
      "605/605 [==============================] - 0s - loss: 0.4881 - acc: 0.8017 - val_loss: 0.4138 - val_acc: 0.8224\n",
      "Epoch 3/20\n",
      "605/605 [==============================] - 0s - loss: 0.4655 - acc: 0.7835 - val_loss: 0.3964 - val_acc: 0.8411\n",
      "Epoch 4/20\n",
      "605/605 [==============================] - 0s - loss: 0.4592 - acc: 0.7752 - val_loss: 0.4036 - val_acc: 0.8224\n",
      "Epoch 5/20\n",
      "605/605 [==============================] - 0s - loss: 0.4534 - acc: 0.7950 - val_loss: 0.4023 - val_acc: 0.8224\n",
      "Epoch 6/20\n",
      "605/605 [==============================] - 0s - loss: 0.4426 - acc: 0.7983 - val_loss: 0.3903 - val_acc: 0.8224\n",
      "Epoch 7/20\n",
      "605/605 [==============================] - 0s - loss: 0.4383 - acc: 0.8132 - val_loss: 0.3926 - val_acc: 0.8224\n",
      "Epoch 8/20\n",
      "605/605 [==============================] - 0s - loss: 0.4339 - acc: 0.8050 - val_loss: 0.3898 - val_acc: 0.8224\n",
      "Epoch 9/20\n",
      "605/605 [==============================] - 0s - loss: 0.4289 - acc: 0.8066 - val_loss: 0.3931 - val_acc: 0.8224\n",
      "Epoch 10/20\n",
      "605/605 [==============================] - 0s - loss: 0.4259 - acc: 0.8116 - val_loss: 0.3900 - val_acc: 0.8411\n",
      "Epoch 11/20\n",
      "605/605 [==============================] - 0s - loss: 0.4260 - acc: 0.8132 - val_loss: 0.3872 - val_acc: 0.8318\n",
      "Epoch 12/20\n",
      "605/605 [==============================] - 0s - loss: 0.4264 - acc: 0.8066 - val_loss: 0.4084 - val_acc: 0.8224\n",
      "Epoch 13/20\n",
      "605/605 [==============================] - 0s - loss: 0.4353 - acc: 0.8132 - val_loss: 0.3887 - val_acc: 0.8318\n",
      "Epoch 14/20\n",
      "605/605 [==============================] - 0s - loss: 0.4240 - acc: 0.8050 - val_loss: 0.3893 - val_acc: 0.8411\n",
      "Epoch 15/20\n",
      "605/605 [==============================] - 0s - loss: 0.4248 - acc: 0.8132 - val_loss: 0.3858 - val_acc: 0.8224\n",
      "Epoch 16/20\n",
      "605/605 [==============================] - 0s - loss: 0.4210 - acc: 0.8149 - val_loss: 0.3876 - val_acc: 0.8224\n",
      "Epoch 17/20\n",
      "605/605 [==============================] - 0s - loss: 0.4212 - acc: 0.8116 - val_loss: 0.3801 - val_acc: 0.8224\n",
      "Epoch 18/20\n",
      "605/605 [==============================] - 0s - loss: 0.4196 - acc: 0.8215 - val_loss: 0.3775 - val_acc: 0.8411\n",
      "Epoch 19/20\n",
      "605/605 [==============================] - 0s - loss: 0.4245 - acc: 0.8099 - val_loss: 0.3995 - val_acc: 0.8411\n",
      "Epoch 20/20\n",
      "605/605 [==============================] - 0s - loss: 0.4127 - acc: 0.8182 - val_loss: 0.3859 - val_acc: 0.8318\n",
      " 32/107 [=======>......................] - ETA: 0s\n",
      "\n",
      "\n",
      "Validation loss: 0.385909175204\n",
      "Validation accuracy: 0.831775703163\n"
     ]
    }
   ],
   "source": [
    "nn_model = Sequential([\n",
    "    Dense(100, input_shape=train_features.shape[1:], activation='relu'),\n",
    "    Dense(100, activation='relu'),\n",
    "    Dense(100, activation='relu'),\n",
    "    Dense(1, activation='sigmoid')\n",
    "])\n",
    "\n",
    "nn_model.compile(optimizer=keras.optimizers.Adam(),\n",
    "                  loss=keras.losses.binary_crossentropy,\n",
    "                  metrics=['accuracy'])\n",
    "\n",
    "nn_model.fit(x_train, y_train, \n",
    "             batch_size=30, epochs=20, verbose=1, \n",
    "             validation_data=(x_validation,y_validation), \n",
    "             callbacks=[\n",
    "                ModelCheckpoint(\"titanic.h5\", save_best_only=True),\n",
    "                EarlyStopping(patience=20)\n",
    "             ])\n",
    "\n",
    "score = nn_model.evaluate(x_validation, y_validation)\n",
    "print('\\n\\n')\n",
    "print('Validation loss:', score[0])\n",
    "print('Validation accuracy:', score[1])"
   ]
  },
  {
   "cell_type": "markdown",
   "metadata": {},
   "source": [
    "## Predictions\n",
    "\n",
    "Now, we load the test dataset, and preprocess it the using the same way we processed our training data. In addition, we fill any NaN categorical variables with the mode of the training data, and NaN numerical variables with the median of the training data."
   ]
  },
  {
   "cell_type": "code",
   "execution_count": 93,
   "metadata": {},
   "outputs": [
    {
     "data": {
      "text/html": [
       "<div>\n",
       "<style>\n",
       "    .dataframe thead tr:only-child th {\n",
       "        text-align: right;\n",
       "    }\n",
       "\n",
       "    .dataframe thead th {\n",
       "        text-align: left;\n",
       "    }\n",
       "\n",
       "    .dataframe tbody tr th {\n",
       "        vertical-align: top;\n",
       "    }\n",
       "</style>\n",
       "<table border=\"1\" class=\"dataframe\">\n",
       "  <thead>\n",
       "    <tr style=\"text-align: right;\">\n",
       "      <th></th>\n",
       "      <th>1</th>\n",
       "      <th>2</th>\n",
       "      <th>3</th>\n",
       "      <th>female</th>\n",
       "      <th>male</th>\n",
       "      <th>C</th>\n",
       "      <th>Q</th>\n",
       "      <th>S</th>\n",
       "      <th>Age</th>\n",
       "      <th>SibSp</th>\n",
       "      <th>Fare</th>\n",
       "    </tr>\n",
       "  </thead>\n",
       "  <tbody>\n",
       "    <tr>\n",
       "      <th>0</th>\n",
       "      <td>0</td>\n",
       "      <td>0</td>\n",
       "      <td>1</td>\n",
       "      <td>0</td>\n",
       "      <td>1</td>\n",
       "      <td>0</td>\n",
       "      <td>1</td>\n",
       "      <td>0</td>\n",
       "      <td>0.055749</td>\n",
       "      <td>-0.055921</td>\n",
       "      <td>-0.054258</td>\n",
       "    </tr>\n",
       "    <tr>\n",
       "      <th>1</th>\n",
       "      <td>0</td>\n",
       "      <td>0</td>\n",
       "      <td>1</td>\n",
       "      <td>1</td>\n",
       "      <td>0</td>\n",
       "      <td>0</td>\n",
       "      <td>0</td>\n",
       "      <td>1</td>\n",
       "      <td>0.220591</td>\n",
       "      <td>0.069079</td>\n",
       "      <td>-0.055877</td>\n",
       "    </tr>\n",
       "    <tr>\n",
       "      <th>2</th>\n",
       "      <td>0</td>\n",
       "      <td>1</td>\n",
       "      <td>0</td>\n",
       "      <td>0</td>\n",
       "      <td>1</td>\n",
       "      <td>0</td>\n",
       "      <td>1</td>\n",
       "      <td>0</td>\n",
       "      <td>0.418402</td>\n",
       "      <td>-0.055921</td>\n",
       "      <td>-0.050631</td>\n",
       "    </tr>\n",
       "    <tr>\n",
       "      <th>3</th>\n",
       "      <td>0</td>\n",
       "      <td>0</td>\n",
       "      <td>1</td>\n",
       "      <td>0</td>\n",
       "      <td>1</td>\n",
       "      <td>0</td>\n",
       "      <td>0</td>\n",
       "      <td>1</td>\n",
       "      <td>-0.043157</td>\n",
       "      <td>-0.055921</td>\n",
       "      <td>-0.052632</td>\n",
       "    </tr>\n",
       "    <tr>\n",
       "      <th>4</th>\n",
       "      <td>0</td>\n",
       "      <td>0</td>\n",
       "      <td>1</td>\n",
       "      <td>1</td>\n",
       "      <td>0</td>\n",
       "      <td>0</td>\n",
       "      <td>0</td>\n",
       "      <td>1</td>\n",
       "      <td>-0.109094</td>\n",
       "      <td>0.069079</td>\n",
       "      <td>-0.045556</td>\n",
       "    </tr>\n",
       "  </tbody>\n",
       "</table>\n",
       "</div>"
      ],
      "text/plain": [
       "   1  2  3  female  male  C  Q  S       Age     SibSp      Fare\n",
       "0  0  0  1       0     1  0  1  0  0.055749 -0.055921 -0.054258\n",
       "1  0  0  1       1     0  0  0  1  0.220591  0.069079 -0.055877\n",
       "2  0  1  0       0     1  0  1  0  0.418402 -0.055921 -0.050631\n",
       "3  0  0  1       0     1  0  0  1 -0.043157 -0.055921 -0.052632\n",
       "4  0  0  1       1     0  0  0  1 -0.109094  0.069079 -0.045556"
      ]
     },
     "execution_count": 93,
     "metadata": {},
     "output_type": "execute_result"
    }
   ],
   "source": [
    "test_df = pd.read_csv('resources/test.csv')\n",
    "ids = test_df['PassengerId'].copy()\n",
    "test_features = preprocess(test_df, training_internal_state=training_preprocessing_state)\n",
    "test_features.head()"
   ]
  },
  {
   "cell_type": "code",
   "execution_count": 94,
   "metadata": {},
   "outputs": [
    {
     "data": {
      "text/plain": [
       "0    0.070189\n",
       "1    0.223564\n",
       "2    0.034924\n",
       "3    0.120474\n",
       "4    0.386755\n",
       "Name: Survived, dtype: float32"
      ]
     },
     "execution_count": 94,
     "metadata": {},
     "output_type": "execute_result"
    }
   ],
   "source": [
    "results = pd.Series(nn_model.predict(test_features.values).flatten(), name='Survived')\n",
    "results.head()"
   ]
  },
  {
   "cell_type": "code",
   "execution_count": 95,
   "metadata": {},
   "outputs": [
    {
     "data": {
      "text/plain": [
       "0    0\n",
       "1    0\n",
       "2    0\n",
       "3    0\n",
       "4    0\n",
       "Name: Survived, dtype: int64"
      ]
     },
     "execution_count": 95,
     "metadata": {},
     "output_type": "execute_result"
    }
   ],
   "source": [
    "results = results.apply(lambda confidence: 0 if confidence < 0.5 else 1)\n",
    "results.head()"
   ]
  },
  {
   "cell_type": "code",
   "execution_count": 96,
   "metadata": {},
   "outputs": [
    {
     "data": {
      "text/html": [
       "<div>\n",
       "<style>\n",
       "    .dataframe thead tr:only-child th {\n",
       "        text-align: right;\n",
       "    }\n",
       "\n",
       "    .dataframe thead th {\n",
       "        text-align: left;\n",
       "    }\n",
       "\n",
       "    .dataframe tbody tr th {\n",
       "        vertical-align: top;\n",
       "    }\n",
       "</style>\n",
       "<table border=\"1\" class=\"dataframe\">\n",
       "  <thead>\n",
       "    <tr style=\"text-align: right;\">\n",
       "      <th></th>\n",
       "      <th>PassengerId</th>\n",
       "      <th>Survived</th>\n",
       "    </tr>\n",
       "  </thead>\n",
       "  <tbody>\n",
       "    <tr>\n",
       "      <th>0</th>\n",
       "      <td>892</td>\n",
       "      <td>0</td>\n",
       "    </tr>\n",
       "    <tr>\n",
       "      <th>1</th>\n",
       "      <td>893</td>\n",
       "      <td>0</td>\n",
       "    </tr>\n",
       "    <tr>\n",
       "      <th>2</th>\n",
       "      <td>894</td>\n",
       "      <td>0</td>\n",
       "    </tr>\n",
       "    <tr>\n",
       "      <th>3</th>\n",
       "      <td>895</td>\n",
       "      <td>0</td>\n",
       "    </tr>\n",
       "    <tr>\n",
       "      <th>4</th>\n",
       "      <td>896</td>\n",
       "      <td>0</td>\n",
       "    </tr>\n",
       "  </tbody>\n",
       "</table>\n",
       "</div>"
      ],
      "text/plain": [
       "   PassengerId  Survived\n",
       "0          892         0\n",
       "1          893         0\n",
       "2          894         0\n",
       "3          895         0\n",
       "4          896         0"
      ]
     },
     "execution_count": 96,
     "metadata": {},
     "output_type": "execute_result"
    }
   ],
   "source": [
    "predictions = pd.concat([ids, results], axis = 1)\n",
    "predictions.head()"
   ]
  },
  {
   "cell_type": "code",
   "execution_count": 97,
   "metadata": {
    "collapsed": true
   },
   "outputs": [],
   "source": [
    "predictions.to_csv('predictions.csv', index=False)"
   ]
  }
 ],
 "metadata": {
  "kernelspec": {
   "display_name": "Python 3",
   "language": "python",
   "name": "python3"
  },
  "language_info": {
   "codemirror_mode": {
    "name": "ipython",
    "version": 3
   },
   "file_extension": ".py",
   "mimetype": "text/x-python",
   "name": "python",
   "nbconvert_exporter": "python",
   "pygments_lexer": "ipython3",
   "version": "3.5.2"
  }
 },
 "nbformat": 4,
 "nbformat_minor": 1
}
